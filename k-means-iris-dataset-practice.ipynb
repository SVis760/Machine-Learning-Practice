{
 "cells": [
  {
   "cell_type": "code",
   "execution_count": 1,
   "id": "e0738829",
   "metadata": {
    "_cell_guid": "b1076dfc-b9ad-4769-8c92-a6c4dae69d19",
    "_uuid": "8f2839f25d086af736a60e9eeb907d3b93b6e0e5",
    "execution": {
     "iopub.execute_input": "2022-06-20T20:29:03.553060Z",
     "iopub.status.busy": "2022-06-20T20:29:03.552447Z",
     "iopub.status.idle": "2022-06-20T20:29:05.063321Z",
     "shell.execute_reply": "2022-06-20T20:29:05.062135Z"
    },
    "papermill": {
     "duration": 1.524523,
     "end_time": "2022-06-20T20:29:05.066221",
     "exception": false,
     "start_time": "2022-06-20T20:29:03.541698",
     "status": "completed"
    },
    "tags": []
   },
   "outputs": [
    {
     "name": "stdout",
     "output_type": "stream",
     "text": [
      "/kaggle/input/iris/Iris.csv\n",
      "/kaggle/input/iris/database.sqlite\n"
     ]
    }
   ],
   "source": [
    "# This Python 3 environment comes with many helpful analytics libraries installed\n",
    "# It is defined by the kaggle/python Docker image: https://github.com/kaggle/docker-python\n",
    "# For example, here's several helpful packages to load\n",
    "\n",
    "import numpy as np # linear algebra\n",
    "import pandas as pd # data processing, CSV file I/O (e.g. pd.read_csv)\n",
    "from matplotlib import pyplot as plt\n",
    "from sklearn.cluster import KMeans\n",
    "from sklearn.preprocessing import MinMaxScaler\n",
    "from pandas import DataFrame\n",
    "\n",
    "# Input data files are available in the read-only \"../input/\" directory\n",
    "# For example, running this (by clicking run or pressing Shift+Enter) will list all files under the input directory\n",
    "\n",
    "import os\n",
    "for dirname, _, filenames in os.walk('/kaggle/input'):\n",
    "    for filename in filenames:\n",
    "        print(os.path.join(dirname, filename))\n",
    "\n",
    "# You can write up to 20GB to the current directory (/kaggle/working/) that gets preserved as output when you create a version using \"Save & Run All\" \n",
    "# You can also write temporary files to /kaggle/temp/, but they won't be saved outside of the current session"
   ]
  },
  {
   "cell_type": "code",
   "execution_count": 2,
   "id": "0a697c92",
   "metadata": {
    "execution": {
     "iopub.execute_input": "2022-06-20T20:29:05.079457Z",
     "iopub.status.busy": "2022-06-20T20:29:05.079053Z",
     "iopub.status.idle": "2022-06-20T20:29:05.094825Z",
     "shell.execute_reply": "2022-06-20T20:29:05.093695Z"
    },
    "papermill": {
     "duration": 0.025444,
     "end_time": "2022-06-20T20:29:05.097536",
     "exception": false,
     "start_time": "2022-06-20T20:29:05.072092",
     "status": "completed"
    },
    "tags": []
   },
   "outputs": [],
   "source": [
    "iris = pd.read_csv(\"../input/iris/Iris.csv\")"
   ]
  },
  {
   "cell_type": "code",
   "execution_count": 3,
   "id": "a2cbd27b",
   "metadata": {
    "execution": {
     "iopub.execute_input": "2022-06-20T20:29:05.112284Z",
     "iopub.status.busy": "2022-06-20T20:29:05.111847Z",
     "iopub.status.idle": "2022-06-20T20:29:05.135444Z",
     "shell.execute_reply": "2022-06-20T20:29:05.134173Z"
    },
    "papermill": {
     "duration": 0.033132,
     "end_time": "2022-06-20T20:29:05.137528",
     "exception": false,
     "start_time": "2022-06-20T20:29:05.104396",
     "status": "completed"
    },
    "tags": []
   },
   "outputs": [
    {
     "data": {
      "text/html": [
       "<div>\n",
       "<style scoped>\n",
       "    .dataframe tbody tr th:only-of-type {\n",
       "        vertical-align: middle;\n",
       "    }\n",
       "\n",
       "    .dataframe tbody tr th {\n",
       "        vertical-align: top;\n",
       "    }\n",
       "\n",
       "    .dataframe thead th {\n",
       "        text-align: right;\n",
       "    }\n",
       "</style>\n",
       "<table border=\"1\" class=\"dataframe\">\n",
       "  <thead>\n",
       "    <tr style=\"text-align: right;\">\n",
       "      <th></th>\n",
       "      <th>Id</th>\n",
       "      <th>SepalLengthCm</th>\n",
       "      <th>SepalWidthCm</th>\n",
       "      <th>PetalLengthCm</th>\n",
       "      <th>PetalWidthCm</th>\n",
       "      <th>Species</th>\n",
       "    </tr>\n",
       "  </thead>\n",
       "  <tbody>\n",
       "    <tr>\n",
       "      <th>0</th>\n",
       "      <td>1</td>\n",
       "      <td>5.1</td>\n",
       "      <td>3.5</td>\n",
       "      <td>1.4</td>\n",
       "      <td>0.2</td>\n",
       "      <td>Iris-setosa</td>\n",
       "    </tr>\n",
       "    <tr>\n",
       "      <th>1</th>\n",
       "      <td>2</td>\n",
       "      <td>4.9</td>\n",
       "      <td>3.0</td>\n",
       "      <td>1.4</td>\n",
       "      <td>0.2</td>\n",
       "      <td>Iris-setosa</td>\n",
       "    </tr>\n",
       "    <tr>\n",
       "      <th>2</th>\n",
       "      <td>3</td>\n",
       "      <td>4.7</td>\n",
       "      <td>3.2</td>\n",
       "      <td>1.3</td>\n",
       "      <td>0.2</td>\n",
       "      <td>Iris-setosa</td>\n",
       "    </tr>\n",
       "    <tr>\n",
       "      <th>3</th>\n",
       "      <td>4</td>\n",
       "      <td>4.6</td>\n",
       "      <td>3.1</td>\n",
       "      <td>1.5</td>\n",
       "      <td>0.2</td>\n",
       "      <td>Iris-setosa</td>\n",
       "    </tr>\n",
       "    <tr>\n",
       "      <th>4</th>\n",
       "      <td>5</td>\n",
       "      <td>5.0</td>\n",
       "      <td>3.6</td>\n",
       "      <td>1.4</td>\n",
       "      <td>0.2</td>\n",
       "      <td>Iris-setosa</td>\n",
       "    </tr>\n",
       "  </tbody>\n",
       "</table>\n",
       "</div>"
      ],
      "text/plain": [
       "   Id  SepalLengthCm  SepalWidthCm  PetalLengthCm  PetalWidthCm      Species\n",
       "0   1            5.1           3.5            1.4           0.2  Iris-setosa\n",
       "1   2            4.9           3.0            1.4           0.2  Iris-setosa\n",
       "2   3            4.7           3.2            1.3           0.2  Iris-setosa\n",
       "3   4            4.6           3.1            1.5           0.2  Iris-setosa\n",
       "4   5            5.0           3.6            1.4           0.2  Iris-setosa"
      ]
     },
     "execution_count": 3,
     "metadata": {},
     "output_type": "execute_result"
    }
   ],
   "source": [
    "iris.head()"
   ]
  },
  {
   "cell_type": "code",
   "execution_count": 4,
   "id": "c762ddb5",
   "metadata": {
    "execution": {
     "iopub.execute_input": "2022-06-20T20:29:05.151627Z",
     "iopub.status.busy": "2022-06-20T20:29:05.150465Z",
     "iopub.status.idle": "2022-06-20T20:29:05.167409Z",
     "shell.execute_reply": "2022-06-20T20:29:05.166000Z"
    },
    "papermill": {
     "duration": 0.02637,
     "end_time": "2022-06-20T20:29:05.169688",
     "exception": false,
     "start_time": "2022-06-20T20:29:05.143318",
     "status": "completed"
    },
    "tags": []
   },
   "outputs": [
    {
     "data": {
      "text/html": [
       "<div>\n",
       "<style scoped>\n",
       "    .dataframe tbody tr th:only-of-type {\n",
       "        vertical-align: middle;\n",
       "    }\n",
       "\n",
       "    .dataframe tbody tr th {\n",
       "        vertical-align: top;\n",
       "    }\n",
       "\n",
       "    .dataframe thead th {\n",
       "        text-align: right;\n",
       "    }\n",
       "</style>\n",
       "<table border=\"1\" class=\"dataframe\">\n",
       "  <thead>\n",
       "    <tr style=\"text-align: right;\">\n",
       "      <th></th>\n",
       "      <th>PetalLengthCm</th>\n",
       "      <th>PetalWidthCm</th>\n",
       "    </tr>\n",
       "  </thead>\n",
       "  <tbody>\n",
       "    <tr>\n",
       "      <th>0</th>\n",
       "      <td>1.4</td>\n",
       "      <td>0.2</td>\n",
       "    </tr>\n",
       "    <tr>\n",
       "      <th>1</th>\n",
       "      <td>1.4</td>\n",
       "      <td>0.2</td>\n",
       "    </tr>\n",
       "    <tr>\n",
       "      <th>2</th>\n",
       "      <td>1.3</td>\n",
       "      <td>0.2</td>\n",
       "    </tr>\n",
       "    <tr>\n",
       "      <th>3</th>\n",
       "      <td>1.5</td>\n",
       "      <td>0.2</td>\n",
       "    </tr>\n",
       "    <tr>\n",
       "      <th>4</th>\n",
       "      <td>1.4</td>\n",
       "      <td>0.2</td>\n",
       "    </tr>\n",
       "  </tbody>\n",
       "</table>\n",
       "</div>"
      ],
      "text/plain": [
       "   PetalLengthCm  PetalWidthCm\n",
       "0            1.4           0.2\n",
       "1            1.4           0.2\n",
       "2            1.3           0.2\n",
       "3            1.5           0.2\n",
       "4            1.4           0.2"
      ]
     },
     "execution_count": 4,
     "metadata": {},
     "output_type": "execute_result"
    }
   ],
   "source": [
    "iris = iris.iloc[:,3:5]\n",
    "iris.head()"
   ]
  },
  {
   "cell_type": "code",
   "execution_count": 5,
   "id": "13683f52",
   "metadata": {
    "execution": {
     "iopub.execute_input": "2022-06-20T20:29:05.183135Z",
     "iopub.status.busy": "2022-06-20T20:29:05.182734Z",
     "iopub.status.idle": "2022-06-20T20:29:05.420116Z",
     "shell.execute_reply": "2022-06-20T20:29:05.419108Z"
    },
    "papermill": {
     "duration": 0.246739,
     "end_time": "2022-06-20T20:29:05.422300",
     "exception": false,
     "start_time": "2022-06-20T20:29:05.175561",
     "status": "completed"
    },
    "tags": []
   },
   "outputs": [
    {
     "data": {
      "text/plain": [
       "Text(0, 0.5, 'petal length')"
      ]
     },
     "execution_count": 5,
     "metadata": {},
     "output_type": "execute_result"
    },
    {
     "data": {
      "image/png": "[encoded data removed]",
      "text/plain": [
       "<Figure size 432x288 with 1 Axes>"
      ]
     },
     "metadata": {
      "needs_background": "light"
     },
     "output_type": "display_data"
    }
   ],
   "source": [
    "plt.scatter(iris['PetalWidthCm'],iris['PetalLengthCm'])\n",
    "plt.xlabel(\"petal width\")\n",
    "plt.ylabel(\"petal length\")"
   ]
  },
  {
   "cell_type": "markdown",
   "id": "772c147d",
   "metadata": {
    "papermill": {
     "duration": 0.005656,
     "end_time": "2022-06-20T20:29:05.433869",
     "exception": false,
     "start_time": "2022-06-20T20:29:05.428213",
     "status": "completed"
    },
    "tags": []
   },
   "source": [
    "The iris data k-means cluster might improve after some scaling."
   ]
  },
  {
   "cell_type": "code",
   "execution_count": 6,
   "id": "212106fd",
   "metadata": {
    "execution": {
     "iopub.execute_input": "2022-06-20T20:29:05.447896Z",
     "iopub.status.busy": "2022-06-20T20:29:05.447083Z",
     "iopub.status.idle": "2022-06-20T20:29:05.452258Z",
     "shell.execute_reply": "2022-06-20T20:29:05.451199Z"
    },
    "papermill": {
     "duration": 0.015272,
     "end_time": "2022-06-20T20:29:05.455123",
     "exception": false,
     "start_time": "2022-06-20T20:29:05.439851",
     "status": "completed"
    },
    "tags": []
   },
   "outputs": [],
   "source": [
    "scaler = MinMaxScaler()"
   ]
  },
  {
   "cell_type": "code",
   "execution_count": 7,
   "id": "17fcecf7",
   "metadata": {
    "execution": {
     "iopub.execute_input": "2022-06-20T20:29:05.470029Z",
     "iopub.status.busy": "2022-06-20T20:29:05.469616Z",
     "iopub.status.idle": "2022-06-20T20:29:05.476816Z",
     "shell.execute_reply": "2022-06-20T20:29:05.476037Z"
    },
    "papermill": {
     "duration": 0.016933,
     "end_time": "2022-06-20T20:29:05.479120",
     "exception": false,
     "start_time": "2022-06-20T20:29:05.462187",
     "status": "completed"
    },
    "tags": []
   },
   "outputs": [],
   "source": [
    "iris_scaled = scaler.fit_transform(iris)"
   ]
  },
  {
   "cell_type": "markdown",
   "id": "ff6770c7",
   "metadata": {
    "papermill": {
     "duration": 0.006962,
     "end_time": "2022-06-20T20:29:05.492422",
     "exception": false,
     "start_time": "2022-06-20T20:29:05.485460",
     "status": "completed"
    },
    "tags": []
   },
   "source": [
    "The MinMaxScaler returns an arrays, that can then be converted to a dataframe."
   ]
  },
  {
   "cell_type": "code",
   "execution_count": 8,
   "id": "2944cc43",
   "metadata": {
    "execution": {
     "iopub.execute_input": "2022-06-20T20:29:05.507730Z",
     "iopub.status.busy": "2022-06-20T20:29:05.507351Z",
     "iopub.status.idle": "2022-06-20T20:29:05.514438Z",
     "shell.execute_reply": "2022-06-20T20:29:05.513112Z"
    },
    "papermill": {
     "duration": 0.018256,
     "end_time": "2022-06-20T20:29:05.517490",
     "exception": false,
     "start_time": "2022-06-20T20:29:05.499234",
     "status": "completed"
    },
    "tags": []
   },
   "outputs": [],
   "source": [
    "iris_scaled = DataFrame(iris_scaled)"
   ]
  },
  {
   "cell_type": "code",
   "execution_count": 9,
   "id": "a2a4ceae",
   "metadata": {
    "execution": {
     "iopub.execute_input": "2022-06-20T20:29:05.533478Z",
     "iopub.status.busy": "2022-06-20T20:29:05.531786Z",
     "iopub.status.idle": "2022-06-20T20:29:05.545386Z",
     "shell.execute_reply": "2022-06-20T20:29:05.544565Z"
    },
    "papermill": {
     "duration": 0.0237,
     "end_time": "2022-06-20T20:29:05.547995",
     "exception": false,
     "start_time": "2022-06-20T20:29:05.524295",
     "status": "completed"
    },
    "tags": []
   },
   "outputs": [
    {
     "data": {
      "text/html": [
       "<div>\n",
       "<style scoped>\n",
       "    .dataframe tbody tr th:only-of-type {\n",
       "        vertical-align: middle;\n",
       "    }\n",
       "\n",
       "    .dataframe tbody tr th {\n",
       "        vertical-align: top;\n",
       "    }\n",
       "\n",
       "    .dataframe thead th {\n",
       "        text-align: right;\n",
       "    }\n",
       "</style>\n",
       "<table border=\"1\" class=\"dataframe\">\n",
       "  <thead>\n",
       "    <tr style=\"text-align: right;\">\n",
       "      <th></th>\n",
       "      <th>0</th>\n",
       "      <th>1</th>\n",
       "    </tr>\n",
       "  </thead>\n",
       "  <tbody>\n",
       "    <tr>\n",
       "      <th>0</th>\n",
       "      <td>0.067797</td>\n",
       "      <td>0.041667</td>\n",
       "    </tr>\n",
       "    <tr>\n",
       "      <th>1</th>\n",
       "      <td>0.067797</td>\n",
       "      <td>0.041667</td>\n",
       "    </tr>\n",
       "    <tr>\n",
       "      <th>2</th>\n",
       "      <td>0.050847</td>\n",
       "      <td>0.041667</td>\n",
       "    </tr>\n",
       "    <tr>\n",
       "      <th>3</th>\n",
       "      <td>0.084746</td>\n",
       "      <td>0.041667</td>\n",
       "    </tr>\n",
       "    <tr>\n",
       "      <th>4</th>\n",
       "      <td>0.067797</td>\n",
       "      <td>0.041667</td>\n",
       "    </tr>\n",
       "  </tbody>\n",
       "</table>\n",
       "</div>"
      ],
      "text/plain": [
       "          0         1\n",
       "0  0.067797  0.041667\n",
       "1  0.067797  0.041667\n",
       "2  0.050847  0.041667\n",
       "3  0.084746  0.041667\n",
       "4  0.067797  0.041667"
      ]
     },
     "execution_count": 9,
     "metadata": {},
     "output_type": "execute_result"
    }
   ],
   "source": [
    "iris_scaled.head()"
   ]
  },
  {
   "cell_type": "markdown",
   "id": "811f4578",
   "metadata": {
    "papermill": {
     "duration": 0.005979,
     "end_time": "2022-06-20T20:29:05.561296",
     "exception": false,
     "start_time": "2022-06-20T20:29:05.555317",
     "status": "completed"
    },
    "tags": []
   },
   "source": [
    "Adding the correct column names."
   ]
  },
  {
   "cell_type": "code",
   "execution_count": 10,
   "id": "51146d84",
   "metadata": {
    "execution": {
     "iopub.execute_input": "2022-06-20T20:29:05.579172Z",
     "iopub.status.busy": "2022-06-20T20:29:05.578362Z",
     "iopub.status.idle": "2022-06-20T20:29:05.583892Z",
     "shell.execute_reply": "2022-06-20T20:29:05.583123Z"
    },
    "papermill": {
     "duration": 0.016719,
     "end_time": "2022-06-20T20:29:05.586530",
     "exception": false,
     "start_time": "2022-06-20T20:29:05.569811",
     "status": "completed"
    },
    "tags": []
   },
   "outputs": [],
   "source": [
    "iris_scaled = iris_scaled.set_axis(['petal_length','petal_width'],axis=1)"
   ]
  },
  {
   "cell_type": "code",
   "execution_count": 11,
   "id": "b6a4a3c4",
   "metadata": {
    "execution": {
     "iopub.execute_input": "2022-06-20T20:29:05.601650Z",
     "iopub.status.busy": "2022-06-20T20:29:05.601247Z",
     "iopub.status.idle": "2022-06-20T20:29:05.612263Z",
     "shell.execute_reply": "2022-06-20T20:29:05.610818Z"
    },
    "papermill": {
     "duration": 0.021348,
     "end_time": "2022-06-20T20:29:05.614156",
     "exception": false,
     "start_time": "2022-06-20T20:29:05.592808",
     "status": "completed"
    },
    "tags": []
   },
   "outputs": [
    {
     "data": {
      "text/html": [
       "<div>\n",
       "<style scoped>\n",
       "    .dataframe tbody tr th:only-of-type {\n",
       "        vertical-align: middle;\n",
       "    }\n",
       "\n",
       "    .dataframe tbody tr th {\n",
       "        vertical-align: top;\n",
       "    }\n",
       "\n",
       "    .dataframe thead th {\n",
       "        text-align: right;\n",
       "    }\n",
       "</style>\n",
       "<table border=\"1\" class=\"dataframe\">\n",
       "  <thead>\n",
       "    <tr style=\"text-align: right;\">\n",
       "      <th></th>\n",
       "      <th>petal_length</th>\n",
       "      <th>petal_width</th>\n",
       "    </tr>\n",
       "  </thead>\n",
       "  <tbody>\n",
       "    <tr>\n",
       "      <th>0</th>\n",
       "      <td>0.067797</td>\n",
       "      <td>0.041667</td>\n",
       "    </tr>\n",
       "    <tr>\n",
       "      <th>1</th>\n",
       "      <td>0.067797</td>\n",
       "      <td>0.041667</td>\n",
       "    </tr>\n",
       "    <tr>\n",
       "      <th>2</th>\n",
       "      <td>0.050847</td>\n",
       "      <td>0.041667</td>\n",
       "    </tr>\n",
       "    <tr>\n",
       "      <th>3</th>\n",
       "      <td>0.084746</td>\n",
       "      <td>0.041667</td>\n",
       "    </tr>\n",
       "    <tr>\n",
       "      <th>4</th>\n",
       "      <td>0.067797</td>\n",
       "      <td>0.041667</td>\n",
       "    </tr>\n",
       "  </tbody>\n",
       "</table>\n",
       "</div>"
      ],
      "text/plain": [
       "   petal_length  petal_width\n",
       "0      0.067797     0.041667\n",
       "1      0.067797     0.041667\n",
       "2      0.050847     0.041667\n",
       "3      0.084746     0.041667\n",
       "4      0.067797     0.041667"
      ]
     },
     "execution_count": 11,
     "metadata": {},
     "output_type": "execute_result"
    }
   ],
   "source": [
    "iris_scaled.head()"
   ]
  },
  {
   "cell_type": "code",
   "execution_count": 12,
   "id": "aabf2f0b",
   "metadata": {
    "execution": {
     "iopub.execute_input": "2022-06-20T20:29:05.630452Z",
     "iopub.status.busy": "2022-06-20T20:29:05.630066Z",
     "iopub.status.idle": "2022-06-20T20:29:05.774773Z",
     "shell.execute_reply": "2022-06-20T20:29:05.773972Z"
    },
    "papermill": {
     "duration": 0.154996,
     "end_time": "2022-06-20T20:29:05.776809",
     "exception": false,
     "start_time": "2022-06-20T20:29:05.621813",
     "status": "completed"
    },
    "tags": []
   },
   "outputs": [
    {
     "data": {
      "text/plain": [
       "Text(0, 0.5, 'petal length')"
      ]
     },
     "execution_count": 12,
     "metadata": {},
     "output_type": "execute_result"
    },
    {
     "data": {
      "image/png": "[encoded data removed]",
      "text/plain": [
       "<Figure size 432x288 with 1 Axes>"
      ]
     },
     "metadata": {
      "needs_background": "light"
     },
     "output_type": "display_data"
    }
   ],
   "source": [
    "plt.scatter(iris_scaled['petal_width'],iris_scaled['petal_length'])\n",
    "plt.xlabel(\"petal width\")\n",
    "plt.ylabel(\"petal length\")"
   ]
  },
  {
   "cell_type": "markdown",
   "id": "00864baf",
   "metadata": {
    "papermill": {
     "duration": 0.00662,
     "end_time": "2022-06-20T20:29:05.790361",
     "exception": false,
     "start_time": "2022-06-20T20:29:05.783741",
     "status": "completed"
    },
    "tags": []
   },
   "source": [
    "When comparing this and the previous graph, it doesn't seem a scaling has been necessary."
   ]
  },
  {
   "cell_type": "code",
   "execution_count": 13,
   "id": "2941efd8",
   "metadata": {
    "execution": {
     "iopub.execute_input": "2022-06-20T20:29:05.805217Z",
     "iopub.status.busy": "2022-06-20T20:29:05.804793Z",
     "iopub.status.idle": "2022-06-20T20:29:06.231169Z",
     "shell.execute_reply": "2022-06-20T20:29:06.230109Z"
    },
    "papermill": {
     "duration": 0.43678,
     "end_time": "2022-06-20T20:29:06.233703",
     "exception": false,
     "start_time": "2022-06-20T20:29:05.796923",
     "status": "completed"
    },
    "tags": []
   },
   "outputs": [],
   "source": [
    "k_range = range(1,11)\n",
    "SSE = []\n",
    "for k in k_range:\n",
    "    km = KMeans(n_clusters=k)\n",
    "    km.fit(iris_scaled[['petal_length','petal_width']])\n",
    "    SSE.append(km.inertia_)"
   ]
  },
  {
   "cell_type": "code",
   "execution_count": 14,
   "id": "b564d84f",
   "metadata": {
    "execution": {
     "iopub.execute_input": "2022-06-20T20:29:06.250628Z",
     "iopub.status.busy": "2022-06-20T20:29:06.250090Z",
     "iopub.status.idle": "2022-06-20T20:29:06.255279Z",
     "shell.execute_reply": "2022-06-20T20:29:06.254083Z"
    },
    "papermill": {
     "duration": 0.016628,
     "end_time": "2022-06-20T20:29:06.257957",
     "exception": false,
     "start_time": "2022-06-20T20:29:06.241329",
     "status": "completed"
    },
    "tags": []
   },
   "outputs": [
    {
     "name": "stdout",
     "output_type": "stream",
     "text": [
      "[28.391514358368717, 5.179687509974784, 1.7050986081225128, 1.1647473293509738, 0.8570856553216399, 0.6833274904190355, 0.5683512655008138, 0.49125017558776923, 0.41553886303600984, 0.36649477460030877]\n"
     ]
    }
   ],
   "source": [
    "print(SSE)"
   ]
  },
  {
   "cell_type": "code",
   "execution_count": 15,
   "id": "43efe5b8",
   "metadata": {
    "execution": {
     "iopub.execute_input": "2022-06-20T20:29:06.274136Z",
     "iopub.status.busy": "2022-06-20T20:29:06.273146Z",
     "iopub.status.idle": "2022-06-20T20:29:06.424923Z",
     "shell.execute_reply": "2022-06-20T20:29:06.423745Z"
    },
    "papermill": {
     "duration": 0.162492,
     "end_time": "2022-06-20T20:29:06.427802",
     "exception": false,
     "start_time": "2022-06-20T20:29:06.265310",
     "status": "completed"
    },
    "tags": []
   },
   "outputs": [
    {
     "data": {
      "text/plain": [
       "[<matplotlib.lines.Line2D at 0x7fe664fddc10>]"
      ]
     },
     "execution_count": 15,
     "metadata": {},
     "output_type": "execute_result"
    },
    {
     "data": {
      "image/png": "[encoded data removed]",
      "text/plain": [
       "<Figure size 432x288 with 1 Axes>"
      ]
     },
     "metadata": {
      "needs_background": "light"
     },
     "output_type": "display_data"
    }
   ],
   "source": [
    "plt.xlabel('K')\n",
    "plt.ylabel(\"Sum of squared error\")\n",
    "plt.plot(k_range,SSE)"
   ]
  },
  {
   "cell_type": "markdown",
   "id": "596c7ad3",
   "metadata": {
    "papermill": {
     "duration": 0.007956,
     "end_time": "2022-06-20T20:29:06.442925",
     "exception": false,
     "start_time": "2022-06-20T20:29:06.434969",
     "status": "completed"
    },
    "tags": []
   },
   "source": [
    "The elbow plot, indicates that k = 3 is the best cluster fit."
   ]
  },
  {
   "cell_type": "code",
   "execution_count": 16,
   "id": "56151447",
   "metadata": {
    "execution": {
     "iopub.execute_input": "2022-06-20T20:29:06.461238Z",
     "iopub.status.busy": "2022-06-20T20:29:06.460489Z",
     "iopub.status.idle": "2022-06-20T20:29:06.469880Z",
     "shell.execute_reply": "2022-06-20T20:29:06.469150Z"
    },
    "papermill": {
     "duration": 0.021041,
     "end_time": "2022-06-20T20:29:06.472185",
     "exception": false,
     "start_time": "2022-06-20T20:29:06.451144",
     "status": "completed"
    },
    "tags": []
   },
   "outputs": [
    {
     "data": {
      "text/plain": [
       "KMeans(n_clusters=3)"
      ]
     },
     "execution_count": 16,
     "metadata": {},
     "output_type": "execute_result"
    }
   ],
   "source": [
    "km = KMeans(n_clusters=3)\n",
    "km"
   ]
  },
  {
   "cell_type": "code",
   "execution_count": 17,
   "id": "d403b2c3",
   "metadata": {
    "execution": {
     "iopub.execute_input": "2022-06-20T20:29:06.488493Z",
     "iopub.status.busy": "2022-06-20T20:29:06.488081Z",
     "iopub.status.idle": "2022-06-20T20:29:06.521562Z",
     "shell.execute_reply": "2022-06-20T20:29:06.520805Z"
    },
    "papermill": {
     "duration": 0.044623,
     "end_time": "2022-06-20T20:29:06.523985",
     "exception": false,
     "start_time": "2022-06-20T20:29:06.479362",
     "status": "completed"
    },
    "tags": []
   },
   "outputs": [
    {
     "data": {
      "text/plain": [
       "array([0, 0, 0, 0, 0, 0, 0, 0, 0, 0, 0, 0, 0, 0, 0, 0, 0, 0, 0, 0, 0, 0,\n",
       "       0, 0, 0, 0, 0, 0, 0, 0, 0, 0, 0, 0, 0, 0, 0, 0, 0, 0, 0, 0, 0, 0,\n",
       "       0, 0, 0, 0, 0, 0, 2, 2, 2, 2, 2, 2, 2, 2, 2, 2, 2, 2, 2, 2, 2, 2,\n",
       "       2, 2, 2, 2, 1, 2, 2, 2, 2, 2, 2, 1, 2, 2, 2, 2, 2, 2, 2, 2, 2, 2,\n",
       "       2, 2, 2, 2, 2, 2, 2, 2, 2, 2, 2, 2, 1, 1, 1, 1, 1, 1, 2, 1, 1, 1,\n",
       "       1, 1, 1, 1, 1, 1, 1, 1, 1, 2, 1, 1, 1, 1, 1, 1, 1, 1, 1, 1, 1, 1,\n",
       "       1, 2, 2, 1, 1, 1, 1, 1, 1, 1, 1, 1, 1, 1, 1, 1, 1, 1], dtype=int32)"
      ]
     },
     "execution_count": 17,
     "metadata": {},
     "output_type": "execute_result"
    }
   ],
   "source": [
    "y_pred = km.fit_predict(iris_scaled[[\"petal_length\",\"petal_width\"]])\n",
    "y_pred"
   ]
  },
  {
   "cell_type": "markdown",
   "id": "be9e5db6",
   "metadata": {
    "papermill": {
     "duration": 0.007681,
     "end_time": "2022-06-20T20:29:06.539932",
     "exception": false,
     "start_time": "2022-06-20T20:29:06.532251",
     "status": "completed"
    },
    "tags": []
   },
   "source": [
    "the fit_predict, predicts that the data point fall into 3 groups/cluster, and labeled them 0, 1, and 2"
   ]
  },
  {
   "cell_type": "code",
   "execution_count": 18,
   "id": "f65f9e5c",
   "metadata": {
    "execution": {
     "iopub.execute_input": "2022-06-20T20:29:06.557650Z",
     "iopub.status.busy": "2022-06-20T20:29:06.556958Z",
     "iopub.status.idle": "2022-06-20T20:29:06.569253Z",
     "shell.execute_reply": "2022-06-20T20:29:06.567837Z"
    },
    "papermill": {
     "duration": 0.023584,
     "end_time": "2022-06-20T20:29:06.571800",
     "exception": false,
     "start_time": "2022-06-20T20:29:06.548216",
     "status": "completed"
    },
    "tags": []
   },
   "outputs": [
    {
     "data": {
      "text/html": [
       "<div>\n",
       "<style scoped>\n",
       "    .dataframe tbody tr th:only-of-type {\n",
       "        vertical-align: middle;\n",
       "    }\n",
       "\n",
       "    .dataframe tbody tr th {\n",
       "        vertical-align: top;\n",
       "    }\n",
       "\n",
       "    .dataframe thead th {\n",
       "        text-align: right;\n",
       "    }\n",
       "</style>\n",
       "<table border=\"1\" class=\"dataframe\">\n",
       "  <thead>\n",
       "    <tr style=\"text-align: right;\">\n",
       "      <th></th>\n",
       "      <th>petal_length</th>\n",
       "      <th>petal_width</th>\n",
       "      <th>cluster</th>\n",
       "    </tr>\n",
       "  </thead>\n",
       "  <tbody>\n",
       "    <tr>\n",
       "      <th>0</th>\n",
       "      <td>0.067797</td>\n",
       "      <td>0.041667</td>\n",
       "      <td>0</td>\n",
       "    </tr>\n",
       "    <tr>\n",
       "      <th>1</th>\n",
       "      <td>0.067797</td>\n",
       "      <td>0.041667</td>\n",
       "      <td>0</td>\n",
       "    </tr>\n",
       "    <tr>\n",
       "      <th>2</th>\n",
       "      <td>0.050847</td>\n",
       "      <td>0.041667</td>\n",
       "      <td>0</td>\n",
       "    </tr>\n",
       "    <tr>\n",
       "      <th>3</th>\n",
       "      <td>0.084746</td>\n",
       "      <td>0.041667</td>\n",
       "      <td>0</td>\n",
       "    </tr>\n",
       "    <tr>\n",
       "      <th>4</th>\n",
       "      <td>0.067797</td>\n",
       "      <td>0.041667</td>\n",
       "      <td>0</td>\n",
       "    </tr>\n",
       "  </tbody>\n",
       "</table>\n",
       "</div>"
      ],
      "text/plain": [
       "   petal_length  petal_width  cluster\n",
       "0      0.067797     0.041667        0\n",
       "1      0.067797     0.041667        0\n",
       "2      0.050847     0.041667        0\n",
       "3      0.084746     0.041667        0\n",
       "4      0.067797     0.041667        0"
      ]
     },
     "execution_count": 18,
     "metadata": {},
     "output_type": "execute_result"
    }
   ],
   "source": [
    "iris_scaled[\"cluster\"] = y_pred\n",
    "iris_scaled.head()"
   ]
  },
  {
   "cell_type": "code",
   "execution_count": 19,
   "id": "8d5d9b21",
   "metadata": {
    "execution": {
     "iopub.execute_input": "2022-06-20T20:29:06.589734Z",
     "iopub.status.busy": "2022-06-20T20:29:06.589104Z",
     "iopub.status.idle": "2022-06-20T20:29:06.779340Z",
     "shell.execute_reply": "2022-06-20T20:29:06.777929Z"
    },
    "papermill": {
     "duration": 0.201666,
     "end_time": "2022-06-20T20:29:06.782072",
     "exception": false,
     "start_time": "2022-06-20T20:29:06.580406",
     "status": "completed"
    },
    "tags": []
   },
   "outputs": [
    {
     "data": {
      "text/plain": [
       "<matplotlib.legend.Legend at 0x7fe67104b350>"
      ]
     },
     "execution_count": 19,
     "metadata": {},
     "output_type": "execute_result"
    },
    {
     "data": {
      "image/png": "[encoded data removed]",
      "text/plain": [
       "<Figure size 432x288 with 1 Axes>"
      ]
     },
     "metadata": {
      "needs_background": "light"
     },
     "output_type": "display_data"
    }
   ],
   "source": [
    "iris1 = iris_scaled[iris_scaled.cluster==0]\n",
    "iris2 = iris_scaled[iris_scaled.cluster==1]\n",
    "iris3 = iris_scaled[iris_scaled.cluster==2]\n",
    "plt.scatter(iris1['petal_width'],iris1['petal_length'],color=\"blue\")\n",
    "plt.scatter(iris2['petal_width'],iris2['petal_length'], color=\"green\")\n",
    "plt.scatter(iris3['petal_width'],iris3['petal_length'], color=\"purple\")\n",
    "plt.scatter(km.cluster_centers_[:,0],km.cluster_centers_[:,1],color=\"red\",marker=\"*\",label=\"centroid\")\n",
    "plt.xlabel(\"Petal Width(cm)\")\n",
    "plt.ylabel(\"Petal Length(cm)\")\n",
    "plt.legend()"
   ]
  },
  {
   "cell_type": "markdown",
   "id": "93529e0f",
   "metadata": {
    "papermill": {
     "duration": 0.008103,
     "end_time": "2022-06-20T20:29:06.798926",
     "exception": false,
     "start_time": "2022-06-20T20:29:06.790823",
     "status": "completed"
    },
    "tags": []
   },
   "source": [
    "The optimal value is for k is 3, and it is in accordance with the species classified in this dataset: setosa, versicolor and virginica."
   ]
  },
  {
   "cell_type": "markdown",
   "id": "49b8d7dc",
   "metadata": {
    "papermill": {
     "duration": 0.007729,
     "end_time": "2022-06-20T20:29:06.815298",
     "exception": false,
     "start_time": "2022-06-20T20:29:06.807569",
     "status": "completed"
    },
    "tags": []
   },
   "source": [
    "Disclaimer: thanks to Kaggle for the data and codebasics for explaining the concept."
   ]
  }
 ],
 "metadata": {
  "kernelspec": {
   "display_name": "Python 3",
   "language": "python",
   "name": "python3"
  },
  "language_info": {
   "codemirror_mode": {
    "name": "ipython",
    "version": 3
   },
   "file_extension": ".py",
   "mimetype": "text/x-python",
   "name": "python",
   "nbconvert_exporter": "python",
   "pygments_lexer": "ipython3",
   "version": "3.7.12"
  },
  "papermill": {
   "default_parameters": {},
   "duration": 15.601853,
   "end_time": "2022-06-20T20:29:07.644922",
   "environment_variables": {},
   "exception": null,
   "input_path": "__notebook__.ipynb",
   "output_path": "__notebook__.ipynb",
   "parameters": {},
   "start_time": "2022-06-20T20:28:52.043069",
   "version": "2.3.4"
  }
 },
 "nbformat": 4,
 "nbformat_minor": 5
}
